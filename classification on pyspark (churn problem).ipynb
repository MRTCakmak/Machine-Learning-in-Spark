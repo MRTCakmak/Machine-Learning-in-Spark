{
 "cells": [
  {
   "cell_type": "markdown",
   "id": "2bef25ab",
   "metadata": {
    "papermill": {
     "duration": 0.017323,
     "end_time": "2023-02-20T13:37:44.579640",
     "exception": false,
     "start_time": "2023-02-20T13:37:44.562317",
     "status": "completed"
    },
    "tags": []
   },
   "source": [
    "<p style=\"padding: 10px;\n",
    "          color: #07663c;\n",
    "          text-align: center;\n",
    "          font-size:170%;\">\n",
    "Spark ile Sınırlandırma (Classification on PySpark)\n",
    "</p>\n",
    "\n",
    "- [<span style=\"font-size:130%; color:#07663c; \">Kütüphaneler (Import Libraries)</span>](#1)\n",
    "- [<span style=\"font-size:130%; color:#07663c; \">Veri Yükleme (Reading Data)</span>](#2)\n",
    "- [<span style=\"font-size:130%; color:#07663c; \">Veri Seti Kontrolü (Checking Dataset)</span>](#3)\n",
    "- [<span style=\"font-size:130%; color:#07663c; \">Eksik veriler (Missing Values)</span>](#4)\n",
    "- [<span style=\"font-size:130%; color:#07663c; \">Değişkenlerin Sınıflandırılması (Feature Classification)</span>](#5)\n",
    "- [<span style=\"font-size:130%; color:#07663c; \">Hedef Değişken Kontrolü (Target Analysis)</span>](#6)\n",
    "- [<span style=\"font-size:130%; color:#07663c; \">Kategorik Değişken Analizi (Categorical Variable Analysis)</span>](#7)\n",
    "- [<span style=\"font-size:130%; color:#07663c; \">Veri Ön İşleme (Data Preprocessing)</span>](#8)\n",
    "- [<span style=\"font-size:130%; color:#07663c; \">Modelleme (Modeling)</span>](#9)\n",
    "- [<span style=\"font-size:130%; color:#07663c; \">Değerlendirme (Evalution)</span>](#10)"
   ]
  },
  {
   "cell_type": "markdown",
   "id": "9d1667b5",
   "metadata": {
    "papermill": {
     "duration": 0.015315,
     "end_time": "2023-02-20T13:37:44.613056",
     "exception": false,
     "start_time": "2023-02-20T13:37:44.597741",
     "status": "completed"
    },
    "tags": []
   },
   "source": [
    "<a id = \"1\"></a> <span style=\"font-size:150%; color:#07663c; \">Kütüphaneler (Import Libraries)</span>"
   ]
  },
  {
   "cell_type": "code",
   "execution_count": 1,
   "id": "7a6cc018",
   "metadata": {
    "execution": {
     "iopub.execute_input": "2023-02-20T13:37:44.646802Z",
     "iopub.status.busy": "2023-02-20T13:37:44.645723Z",
     "iopub.status.idle": "2023-02-20T13:38:43.374469Z",
     "shell.execute_reply": "2023-02-20T13:38:43.372923Z"
    },
    "papermill": {
     "duration": 58.749169,
     "end_time": "2023-02-20T13:38:43.377701",
     "exception": false,
     "start_time": "2023-02-20T13:37:44.628532",
     "status": "completed"
    },
    "tags": []
   },
   "outputs": [
    {
     "name": "stdout",
     "output_type": "stream",
     "text": [
      "Collecting pyspark\r\n",
      "  Downloading pyspark-3.3.2.tar.gz (281.4 MB)\r\n",
      "\u001b[2K     \u001b[90m━━━━━━━━━━━━━━━━━━━━━━━━━━━━━━━━━━━━━━━\u001b[0m \u001b[32m281.4/281.4 MB\u001b[0m \u001b[31m3.6 MB/s\u001b[0m eta \u001b[36m0:00:00\u001b[0m\r\n",
      "\u001b[?25h  Preparing metadata (setup.py) ... \u001b[?25l-\b \bdone\r\n",
      "\u001b[?25hCollecting py4j==0.10.9.5\r\n",
      "  Downloading py4j-0.10.9.5-py2.py3-none-any.whl (199 kB)\r\n",
      "\u001b[2K     \u001b[90m━━━━━━━━━━━━━━━━━━━━━━━━━━━━━━━━━━━━━━\u001b[0m \u001b[32m199.7/199.7 kB\u001b[0m \u001b[31m16.2 MB/s\u001b[0m eta \u001b[36m0:00:00\u001b[0m\r\n",
      "\u001b[?25hBuilding wheels for collected packages: pyspark\r\n",
      "  Building wheel for pyspark (setup.py) ... \u001b[?25l-\b \b\\\b \b|\b \b/\b \b-\b \b\\\b \b|\b \b/\b \b-\b \b\\\b \b|\b \b/\b \b-\b \b\\\b \b|\b \b/\b \b-\b \b\\\b \b|\b \b/\b \b-\b \b\\\b \b|\b \b/\b \b-\b \b\\\b \b|\b \b/\b \b-\b \b\\\b \b|\b \b/\b \b-\b \b\\\b \b|\b \b/\b \b-\b \b\\\b \b|\b \b/\b \b-\b \b\\\b \b|\b \b/\b \b-\b \b\\\b \b|\b \b/\b \b-\b \b\\\b \b|\b \b/\b \b-\b \b\\\b \b|\b \b/\b \b-\b \b\\\b \b|\b \b/\b \b-\b \bdone\r\n",
      "\u001b[?25h  Created wheel for pyspark: filename=pyspark-3.3.2-py2.py3-none-any.whl size=281824024 sha256=7a04ebd37ca0739e5baaf2f4dbeb7c803bbb9879e6e48571a33c555707e694d5\r\n",
      "  Stored in directory: /root/.cache/pip/wheels/07/fb/67/b9f2c0242d156eaa136b45ae4fd99d3e7c0ecc2acfd26f47b9\r\n",
      "Successfully built pyspark\r\n",
      "Installing collected packages: py4j, pyspark\r\n",
      "  Attempting uninstall: py4j\r\n",
      "    Found existing installation: py4j 0.10.9.7\r\n",
      "    Uninstalling py4j-0.10.9.7:\r\n",
      "      Successfully uninstalled py4j-0.10.9.7\r\n",
      "Successfully installed py4j-0.10.9.5 pyspark-3.3.2\r\n",
      "\u001b[33mWARNING: Running pip as the 'root' user can result in broken permissions and conflicting behaviour with the system package manager. It is recommended to use a virtual environment instead: https://pip.pypa.io/warnings/venv\u001b[0m\u001b[33m\r\n",
      "\u001b[0mNote: you may need to restart the kernel to use updated packages.\n"
     ]
    }
   ],
   "source": [
    "pip install pyspark"
   ]
  },
  {
   "cell_type": "code",
   "execution_count": 2,
   "id": "0bed0a0e",
   "metadata": {
    "execution": {
     "iopub.execute_input": "2023-02-20T13:38:43.446580Z",
     "iopub.status.busy": "2023-02-20T13:38:43.446120Z",
     "iopub.status.idle": "2023-02-20T13:38:56.054062Z",
     "shell.execute_reply": "2023-02-20T13:38:56.052065Z"
    },
    "papermill": {
     "duration": 12.646569,
     "end_time": "2023-02-20T13:38:56.057345",
     "exception": false,
     "start_time": "2023-02-20T13:38:43.410776",
     "status": "completed"
    },
    "tags": []
   },
   "outputs": [
    {
     "name": "stdout",
     "output_type": "stream",
     "text": [
      "Collecting findspark\r\n",
      "  Downloading findspark-2.0.1-py2.py3-none-any.whl (4.4 kB)\r\n",
      "Installing collected packages: findspark\r\n",
      "Successfully installed findspark-2.0.1\r\n",
      "\u001b[33mWARNING: Running pip as the 'root' user can result in broken permissions and conflicting behaviour with the system package manager. It is recommended to use a virtual environment instead: https://pip.pypa.io/warnings/venv\u001b[0m\u001b[33m\r\n",
      "\u001b[0mNote: you may need to restart the kernel to use updated packages.\n"
     ]
    }
   ],
   "source": [
    "pip install findspark"
   ]
  },
  {
   "cell_type": "code",
   "execution_count": 3,
   "id": "a094d61d",
   "metadata": {
    "execution": {
     "iopub.execute_input": "2023-02-20T13:38:56.128085Z",
     "iopub.status.busy": "2023-02-20T13:38:56.127597Z",
     "iopub.status.idle": "2023-02-20T13:38:56.142721Z",
     "shell.execute_reply": "2023-02-20T13:38:56.141514Z"
    },
    "papermill": {
     "duration": 0.055223,
     "end_time": "2023-02-20T13:38:56.146478",
     "exception": false,
     "start_time": "2023-02-20T13:38:56.091255",
     "status": "completed"
    },
    "tags": []
   },
   "outputs": [
    {
     "data": {
      "text/plain": [
       "<function findspark.init(spark_home=None, python_path=None, edit_rc=False, edit_profile=False)>"
      ]
     },
     "execution_count": 3,
     "metadata": {},
     "output_type": "execute_result"
    }
   ],
   "source": [
    "import findspark\n",
    "findspark.init"
   ]
  },
  {
   "cell_type": "code",
   "execution_count": 4,
   "id": "7f904d76",
   "metadata": {
    "execution": {
     "iopub.execute_input": "2023-02-20T13:38:56.216383Z",
     "iopub.status.busy": "2023-02-20T13:38:56.215923Z",
     "iopub.status.idle": "2023-02-20T13:39:02.533576Z",
     "shell.execute_reply": "2023-02-20T13:39:02.532075Z"
    },
    "papermill": {
     "duration": 6.35799,
     "end_time": "2023-02-20T13:39:02.538405",
     "exception": false,
     "start_time": "2023-02-20T13:38:56.180415",
     "status": "completed"
    },
    "tags": []
   },
   "outputs": [
    {
     "name": "stderr",
     "output_type": "stream",
     "text": [
      "Setting default log level to \"WARN\".\n",
      "To adjust logging level use sc.setLogLevel(newLevel). For SparkR, use setLogLevel(newLevel).\n"
     ]
    },
    {
     "name": "stdout",
     "output_type": "stream",
     "text": [
      "23/02/20 13:39:00 WARN NativeCodeLoader: Unable to load native-hadoop library for your platform... using builtin-java classes where applicable\n"
     ]
    }
   ],
   "source": [
    "from pyspark.sql import SparkSession # Dataframe oluşturmak için gerekli.\n",
    "spark = SparkSession.builder.appName(\"Basics\").getOrCreate() "
   ]
  },
  {
   "cell_type": "code",
   "execution_count": 5,
   "id": "16e3bdde",
   "metadata": {
    "execution": {
     "iopub.execute_input": "2023-02-20T13:39:02.618705Z",
     "iopub.status.busy": "2023-02-20T13:39:02.618296Z",
     "iopub.status.idle": "2023-02-20T13:39:03.671704Z",
     "shell.execute_reply": "2023-02-20T13:39:03.670117Z"
    },
    "papermill": {
     "duration": 1.092236,
     "end_time": "2023-02-20T13:39:03.675193",
     "exception": false,
     "start_time": "2023-02-20T13:39:02.582957",
     "status": "completed"
    },
    "tags": []
   },
   "outputs": [],
   "source": [
    "import math\n",
    "import numpy as np\n",
    "import pandas as pd\n",
    "from scipy.stats import norm"
   ]
  },
  {
   "cell_type": "code",
   "execution_count": 6,
   "id": "ca116dbf",
   "metadata": {
    "execution": {
     "iopub.execute_input": "2023-02-20T13:39:03.748011Z",
     "iopub.status.busy": "2023-02-20T13:39:03.746110Z",
     "iopub.status.idle": "2023-02-20T13:39:03.845114Z",
     "shell.execute_reply": "2023-02-20T13:39:03.844052Z"
    },
    "papermill": {
     "duration": 0.137432,
     "end_time": "2023-02-20T13:39:03.847886",
     "exception": false,
     "start_time": "2023-02-20T13:39:03.710454",
     "status": "completed"
    },
    "tags": []
   },
   "outputs": [],
   "source": [
    "from pyspark import SparkConf, SparkContext\n",
    "from pyspark.sql import SparkSession, SQLContext\n",
    "\n",
    "from pyspark.sql.types import *\n",
    "import pyspark.sql.functions as F\n",
    "from pyspark.sql.functions import udf, col\n",
    "\n",
    "from pyspark.ml.regression import LinearRegression\n",
    "from pyspark.mllib.evaluation import RegressionMetrics\n",
    "\n",
    "from pyspark.ml.tuning import ParamGridBuilder, CrossValidator, CrossValidatorModel\n",
    "from pyspark.ml.feature import VectorAssembler, StandardScaler\n",
    "from pyspark.ml.evaluation import RegressionEvaluator"
   ]
  },
  {
   "cell_type": "code",
   "execution_count": 7,
   "id": "bea75df5",
   "metadata": {
    "execution": {
     "iopub.execute_input": "2023-02-20T13:39:03.920990Z",
     "iopub.status.busy": "2023-02-20T13:39:03.920249Z",
     "iopub.status.idle": "2023-02-20T13:39:04.138600Z",
     "shell.execute_reply": "2023-02-20T13:39:04.137588Z"
    },
    "papermill": {
     "duration": 0.25763,
     "end_time": "2023-02-20T13:39:04.141236",
     "exception": false,
     "start_time": "2023-02-20T13:39:03.883606",
     "status": "completed"
    },
    "tags": []
   },
   "outputs": [],
   "source": [
    "import matplotlib.pyplot as plt\n",
    "import seaborn as sns\n",
    "\n",
    "from scipy import stats\n",
    "from scipy.stats import norm, skew \n",
    "pd.set_option('display.max_columns', None)\n",
    "pd.set_option('display.max_rows', None)"
   ]
  },
  {
   "cell_type": "markdown",
   "id": "430b0ed9",
   "metadata": {
    "papermill": {
     "duration": 0.035714,
     "end_time": "2023-02-20T13:39:04.210611",
     "exception": false,
     "start_time": "2023-02-20T13:39:04.174897",
     "status": "completed"
    },
    "tags": []
   },
   "source": [
    "<a id = \"2\"></a> <span style=\"font-size:150%; color:#07663c; \">Veri Yükleme (Reading Data)</span>"
   ]
  },
  {
   "cell_type": "code",
   "execution_count": 8,
   "id": "1a4a1d4d",
   "metadata": {
    "execution": {
     "iopub.execute_input": "2023-02-20T13:39:04.281960Z",
     "iopub.status.busy": "2023-02-20T13:39:04.281491Z",
     "iopub.status.idle": "2023-02-20T13:39:04.294736Z",
     "shell.execute_reply": "2023-02-20T13:39:04.293038Z"
    },
    "papermill": {
     "duration": 0.052388,
     "end_time": "2023-02-20T13:39:04.297814",
     "exception": false,
     "start_time": "2023-02-20T13:39:04.245426",
     "status": "completed"
    },
    "tags": []
   },
   "outputs": [
    {
     "name": "stdout",
     "output_type": "stream",
     "text": [
      "/kaggle/input/churn-modelling-bank-customer/Churn_Modelling.csv\n"
     ]
    }
   ],
   "source": [
    "import os\n",
    "for dirname, _, filenames in os.walk('/kaggle/input'):\n",
    "    for filename in filenames:\n",
    "        print(os.path.join(dirname, filename))"
   ]
  },
  {
   "cell_type": "code",
   "execution_count": 9,
   "id": "cc7ba11b",
   "metadata": {
    "execution": {
     "iopub.execute_input": "2023-02-20T13:39:04.368395Z",
     "iopub.status.busy": "2023-02-20T13:39:04.367659Z",
     "iopub.status.idle": "2023-02-20T13:39:12.123160Z",
     "shell.execute_reply": "2023-02-20T13:39:12.121787Z"
    },
    "papermill": {
     "duration": 7.794892,
     "end_time": "2023-02-20T13:39:12.127462",
     "exception": false,
     "start_time": "2023-02-20T13:39:04.332570",
     "status": "completed"
    },
    "tags": []
   },
   "outputs": [
    {
     "name": "stderr",
     "output_type": "stream",
     "text": [
      "                                                                                \r"
     ]
    }
   ],
   "source": [
    "df = (spark.read.format(\"csv\")\n",
    "      .option(\"header\",True)\n",
    "      .option(\"inferSchema\",True)\n",
    "      .load(\"/kaggle/input/churn-modelling-bank-customer/Churn_Modelling.csv\")\n",
    "     )"
   ]
  },
  {
   "cell_type": "markdown",
   "id": "2b967d03",
   "metadata": {
    "papermill": {
     "duration": 0.049904,
     "end_time": "2023-02-20T13:39:12.230573",
     "exception": false,
     "start_time": "2023-02-20T13:39:12.180669",
     "status": "completed"
    },
    "tags": []
   },
   "source": [
    "<a id = \"3\"></a> <span style=\"font-size:150%; color:#07663c; \">Veri Seti Kontrolü (Checking Dataset)</span>"
   ]
  },
  {
   "cell_type": "code",
   "execution_count": 10,
   "id": "5d2d1e22",
   "metadata": {
    "execution": {
     "iopub.execute_input": "2023-02-20T13:39:12.344133Z",
     "iopub.status.busy": "2023-02-20T13:39:12.343179Z",
     "iopub.status.idle": "2023-02-20T13:39:13.444492Z",
     "shell.execute_reply": "2023-02-20T13:39:13.443057Z"
    },
    "papermill": {
     "duration": 1.162821,
     "end_time": "2023-02-20T13:39:13.448651",
     "exception": false,
     "start_time": "2023-02-20T13:39:12.285830",
     "status": "completed"
    },
    "tags": []
   },
   "outputs": [
    {
     "name": "stdout",
     "output_type": "stream",
     "text": [
      "10000\n"
     ]
    }
   ],
   "source": [
    "print(df.count())\n",
    "# Veri setindeki satır sayısını verir."
   ]
  },
  {
   "cell_type": "code",
   "execution_count": 11,
   "id": "16738e60",
   "metadata": {
    "execution": {
     "iopub.execute_input": "2023-02-20T13:39:13.557421Z",
     "iopub.status.busy": "2023-02-20T13:39:13.556809Z",
     "iopub.status.idle": "2023-02-20T13:39:13.612024Z",
     "shell.execute_reply": "2023-02-20T13:39:13.609879Z"
    },
    "papermill": {
     "duration": 0.114254,
     "end_time": "2023-02-20T13:39:13.616599",
     "exception": false,
     "start_time": "2023-02-20T13:39:13.502345",
     "status": "completed"
    },
    "tags": []
   },
   "outputs": [
    {
     "name": "stdout",
     "output_type": "stream",
     "text": [
      "14\n"
     ]
    }
   ],
   "source": [
    "print(len(df.columns))\n",
    "# Veri setindeki değişken (sütun) sayısını verir."
   ]
  },
  {
   "cell_type": "markdown",
   "id": "b91f61d6",
   "metadata": {
    "papermill": {
     "duration": 0.051904,
     "end_time": "2023-02-20T13:39:13.721788",
     "exception": false,
     "start_time": "2023-02-20T13:39:13.669884",
     "status": "completed"
    },
    "tags": []
   },
   "source": [
    "* Verisetinde; \n",
    "    * 10.000 satır,\n",
    "    * 14 sütun (değişken) bulunuyor."
   ]
  },
  {
   "cell_type": "code",
   "execution_count": 12,
   "id": "4f3478b8",
   "metadata": {
    "execution": {
     "iopub.execute_input": "2023-02-20T13:39:13.825826Z",
     "iopub.status.busy": "2023-02-20T13:39:13.825285Z",
     "iopub.status.idle": "2023-02-20T13:39:14.237973Z",
     "shell.execute_reply": "2023-02-20T13:39:14.236095Z"
    },
    "papermill": {
     "duration": 0.469832,
     "end_time": "2023-02-20T13:39:14.241571",
     "exception": false,
     "start_time": "2023-02-20T13:39:13.771739",
     "status": "completed"
    },
    "tags": []
   },
   "outputs": [
    {
     "data": {
      "text/html": [
       "<div>\n",
       "<style scoped>\n",
       "    .dataframe tbody tr th:only-of-type {\n",
       "        vertical-align: middle;\n",
       "    }\n",
       "\n",
       "    .dataframe tbody tr th {\n",
       "        vertical-align: top;\n",
       "    }\n",
       "\n",
       "    .dataframe thead th {\n",
       "        text-align: right;\n",
       "    }\n",
       "</style>\n",
       "<table border=\"1\" class=\"dataframe\">\n",
       "  <thead>\n",
       "    <tr style=\"text-align: right;\">\n",
       "      <th></th>\n",
       "      <th>RowNumber</th>\n",
       "      <th>CustomerId</th>\n",
       "      <th>Surname</th>\n",
       "      <th>CreditScore</th>\n",
       "      <th>Geography</th>\n",
       "      <th>Gender</th>\n",
       "      <th>Age</th>\n",
       "      <th>Tenure</th>\n",
       "      <th>Balance</th>\n",
       "      <th>NumOfProducts</th>\n",
       "      <th>HasCrCard</th>\n",
       "      <th>IsActiveMember</th>\n",
       "      <th>EstimatedSalary</th>\n",
       "      <th>Exited</th>\n",
       "    </tr>\n",
       "  </thead>\n",
       "  <tbody>\n",
       "    <tr>\n",
       "      <th>0</th>\n",
       "      <td>1</td>\n",
       "      <td>15634602</td>\n",
       "      <td>Hargrave</td>\n",
       "      <td>619</td>\n",
       "      <td>France</td>\n",
       "      <td>Female</td>\n",
       "      <td>42</td>\n",
       "      <td>2</td>\n",
       "      <td>0.00</td>\n",
       "      <td>1</td>\n",
       "      <td>1</td>\n",
       "      <td>1</td>\n",
       "      <td>101348.88</td>\n",
       "      <td>1</td>\n",
       "    </tr>\n",
       "    <tr>\n",
       "      <th>1</th>\n",
       "      <td>2</td>\n",
       "      <td>15647311</td>\n",
       "      <td>Hill</td>\n",
       "      <td>608</td>\n",
       "      <td>Spain</td>\n",
       "      <td>Female</td>\n",
       "      <td>41</td>\n",
       "      <td>1</td>\n",
       "      <td>83807.86</td>\n",
       "      <td>1</td>\n",
       "      <td>0</td>\n",
       "      <td>1</td>\n",
       "      <td>112542.58</td>\n",
       "      <td>0</td>\n",
       "    </tr>\n",
       "    <tr>\n",
       "      <th>2</th>\n",
       "      <td>3</td>\n",
       "      <td>15619304</td>\n",
       "      <td>Onio</td>\n",
       "      <td>502</td>\n",
       "      <td>France</td>\n",
       "      <td>Female</td>\n",
       "      <td>42</td>\n",
       "      <td>8</td>\n",
       "      <td>159660.80</td>\n",
       "      <td>3</td>\n",
       "      <td>1</td>\n",
       "      <td>0</td>\n",
       "      <td>113931.57</td>\n",
       "      <td>1</td>\n",
       "    </tr>\n",
       "    <tr>\n",
       "      <th>3</th>\n",
       "      <td>4</td>\n",
       "      <td>15701354</td>\n",
       "      <td>Boni</td>\n",
       "      <td>699</td>\n",
       "      <td>France</td>\n",
       "      <td>Female</td>\n",
       "      <td>39</td>\n",
       "      <td>1</td>\n",
       "      <td>0.00</td>\n",
       "      <td>2</td>\n",
       "      <td>0</td>\n",
       "      <td>0</td>\n",
       "      <td>93826.63</td>\n",
       "      <td>0</td>\n",
       "    </tr>\n",
       "    <tr>\n",
       "      <th>4</th>\n",
       "      <td>5</td>\n",
       "      <td>15737888</td>\n",
       "      <td>Mitchell</td>\n",
       "      <td>850</td>\n",
       "      <td>Spain</td>\n",
       "      <td>Female</td>\n",
       "      <td>43</td>\n",
       "      <td>2</td>\n",
       "      <td>125510.82</td>\n",
       "      <td>1</td>\n",
       "      <td>1</td>\n",
       "      <td>1</td>\n",
       "      <td>79084.10</td>\n",
       "      <td>0</td>\n",
       "    </tr>\n",
       "    <tr>\n",
       "      <th>5</th>\n",
       "      <td>6</td>\n",
       "      <td>15574012</td>\n",
       "      <td>Chu</td>\n",
       "      <td>645</td>\n",
       "      <td>Spain</td>\n",
       "      <td>Male</td>\n",
       "      <td>44</td>\n",
       "      <td>8</td>\n",
       "      <td>113755.78</td>\n",
       "      <td>2</td>\n",
       "      <td>1</td>\n",
       "      <td>0</td>\n",
       "      <td>149756.71</td>\n",
       "      <td>1</td>\n",
       "    </tr>\n",
       "    <tr>\n",
       "      <th>6</th>\n",
       "      <td>7</td>\n",
       "      <td>15592531</td>\n",
       "      <td>Bartlett</td>\n",
       "      <td>822</td>\n",
       "      <td>France</td>\n",
       "      <td>Male</td>\n",
       "      <td>50</td>\n",
       "      <td>7</td>\n",
       "      <td>0.00</td>\n",
       "      <td>2</td>\n",
       "      <td>1</td>\n",
       "      <td>1</td>\n",
       "      <td>10062.80</td>\n",
       "      <td>0</td>\n",
       "    </tr>\n",
       "    <tr>\n",
       "      <th>7</th>\n",
       "      <td>8</td>\n",
       "      <td>15656148</td>\n",
       "      <td>Obinna</td>\n",
       "      <td>376</td>\n",
       "      <td>Germany</td>\n",
       "      <td>Female</td>\n",
       "      <td>29</td>\n",
       "      <td>4</td>\n",
       "      <td>115046.74</td>\n",
       "      <td>4</td>\n",
       "      <td>1</td>\n",
       "      <td>0</td>\n",
       "      <td>119346.88</td>\n",
       "      <td>1</td>\n",
       "    </tr>\n",
       "    <tr>\n",
       "      <th>8</th>\n",
       "      <td>9</td>\n",
       "      <td>15792365</td>\n",
       "      <td>He</td>\n",
       "      <td>501</td>\n",
       "      <td>France</td>\n",
       "      <td>Male</td>\n",
       "      <td>44</td>\n",
       "      <td>4</td>\n",
       "      <td>142051.07</td>\n",
       "      <td>2</td>\n",
       "      <td>0</td>\n",
       "      <td>1</td>\n",
       "      <td>74940.50</td>\n",
       "      <td>0</td>\n",
       "    </tr>\n",
       "    <tr>\n",
       "      <th>9</th>\n",
       "      <td>10</td>\n",
       "      <td>15592389</td>\n",
       "      <td>H?</td>\n",
       "      <td>684</td>\n",
       "      <td>France</td>\n",
       "      <td>Male</td>\n",
       "      <td>27</td>\n",
       "      <td>2</td>\n",
       "      <td>134603.88</td>\n",
       "      <td>1</td>\n",
       "      <td>1</td>\n",
       "      <td>1</td>\n",
       "      <td>71725.73</td>\n",
       "      <td>0</td>\n",
       "    </tr>\n",
       "    <tr>\n",
       "      <th>10</th>\n",
       "      <td>11</td>\n",
       "      <td>15767821</td>\n",
       "      <td>Bearce</td>\n",
       "      <td>528</td>\n",
       "      <td>France</td>\n",
       "      <td>Male</td>\n",
       "      <td>31</td>\n",
       "      <td>6</td>\n",
       "      <td>102016.72</td>\n",
       "      <td>2</td>\n",
       "      <td>0</td>\n",
       "      <td>0</td>\n",
       "      <td>80181.12</td>\n",
       "      <td>0</td>\n",
       "    </tr>\n",
       "    <tr>\n",
       "      <th>11</th>\n",
       "      <td>12</td>\n",
       "      <td>15737173</td>\n",
       "      <td>Andrews</td>\n",
       "      <td>497</td>\n",
       "      <td>Spain</td>\n",
       "      <td>Male</td>\n",
       "      <td>24</td>\n",
       "      <td>3</td>\n",
       "      <td>0.00</td>\n",
       "      <td>2</td>\n",
       "      <td>1</td>\n",
       "      <td>0</td>\n",
       "      <td>76390.01</td>\n",
       "      <td>0</td>\n",
       "    </tr>\n",
       "    <tr>\n",
       "      <th>12</th>\n",
       "      <td>13</td>\n",
       "      <td>15632264</td>\n",
       "      <td>Kay</td>\n",
       "      <td>476</td>\n",
       "      <td>France</td>\n",
       "      <td>Female</td>\n",
       "      <td>34</td>\n",
       "      <td>10</td>\n",
       "      <td>0.00</td>\n",
       "      <td>2</td>\n",
       "      <td>1</td>\n",
       "      <td>0</td>\n",
       "      <td>26260.98</td>\n",
       "      <td>0</td>\n",
       "    </tr>\n",
       "    <tr>\n",
       "      <th>13</th>\n",
       "      <td>14</td>\n",
       "      <td>15691483</td>\n",
       "      <td>Chin</td>\n",
       "      <td>549</td>\n",
       "      <td>France</td>\n",
       "      <td>Female</td>\n",
       "      <td>25</td>\n",
       "      <td>5</td>\n",
       "      <td>0.00</td>\n",
       "      <td>2</td>\n",
       "      <td>0</td>\n",
       "      <td>0</td>\n",
       "      <td>190857.79</td>\n",
       "      <td>0</td>\n",
       "    </tr>\n",
       "    <tr>\n",
       "      <th>14</th>\n",
       "      <td>15</td>\n",
       "      <td>15600882</td>\n",
       "      <td>Scott</td>\n",
       "      <td>635</td>\n",
       "      <td>Spain</td>\n",
       "      <td>Female</td>\n",
       "      <td>35</td>\n",
       "      <td>7</td>\n",
       "      <td>0.00</td>\n",
       "      <td>2</td>\n",
       "      <td>1</td>\n",
       "      <td>1</td>\n",
       "      <td>65951.65</td>\n",
       "      <td>0</td>\n",
       "    </tr>\n",
       "  </tbody>\n",
       "</table>\n",
       "</div>"
      ],
      "text/plain": [
       "    RowNumber  CustomerId   Surname  CreditScore Geography  Gender  Age  \\\n",
       "0           1    15634602  Hargrave          619    France  Female   42   \n",
       "1           2    15647311      Hill          608     Spain  Female   41   \n",
       "2           3    15619304      Onio          502    France  Female   42   \n",
       "3           4    15701354      Boni          699    France  Female   39   \n",
       "4           5    15737888  Mitchell          850     Spain  Female   43   \n",
       "5           6    15574012       Chu          645     Spain    Male   44   \n",
       "6           7    15592531  Bartlett          822    France    Male   50   \n",
       "7           8    15656148    Obinna          376   Germany  Female   29   \n",
       "8           9    15792365        He          501    France    Male   44   \n",
       "9          10    15592389        H?          684    France    Male   27   \n",
       "10         11    15767821    Bearce          528    France    Male   31   \n",
       "11         12    15737173   Andrews          497     Spain    Male   24   \n",
       "12         13    15632264       Kay          476    France  Female   34   \n",
       "13         14    15691483      Chin          549    France  Female   25   \n",
       "14         15    15600882     Scott          635     Spain  Female   35   \n",
       "\n",
       "    Tenure    Balance  NumOfProducts  HasCrCard  IsActiveMember  \\\n",
       "0        2       0.00              1          1               1   \n",
       "1        1   83807.86              1          0               1   \n",
       "2        8  159660.80              3          1               0   \n",
       "3        1       0.00              2          0               0   \n",
       "4        2  125510.82              1          1               1   \n",
       "5        8  113755.78              2          1               0   \n",
       "6        7       0.00              2          1               1   \n",
       "7        4  115046.74              4          1               0   \n",
       "8        4  142051.07              2          0               1   \n",
       "9        2  134603.88              1          1               1   \n",
       "10       6  102016.72              2          0               0   \n",
       "11       3       0.00              2          1               0   \n",
       "12      10       0.00              2          1               0   \n",
       "13       5       0.00              2          0               0   \n",
       "14       7       0.00              2          1               1   \n",
       "\n",
       "    EstimatedSalary  Exited  \n",
       "0         101348.88       1  \n",
       "1         112542.58       0  \n",
       "2         113931.57       1  \n",
       "3          93826.63       0  \n",
       "4          79084.10       0  \n",
       "5         149756.71       1  \n",
       "6          10062.80       0  \n",
       "7         119346.88       1  \n",
       "8          74940.50       0  \n",
       "9          71725.73       0  \n",
       "10         80181.12       0  \n",
       "11         76390.01       0  \n",
       "12         26260.98       0  \n",
       "13        190857.79       0  \n",
       "14         65951.65       0  "
      ]
     },
     "execution_count": 12,
     "metadata": {},
     "output_type": "execute_result"
    }
   ],
   "source": [
    "df.limit(15).toPandas()\n",
    "# ilk 15 gözleme göz gezdiriyoruz."
   ]
  },
  {
   "cell_type": "code",
   "execution_count": 13,
   "id": "ccb15817",
   "metadata": {
    "execution": {
     "iopub.execute_input": "2023-02-20T13:39:14.334623Z",
     "iopub.status.busy": "2023-02-20T13:39:14.333776Z",
     "iopub.status.idle": "2023-02-20T13:39:14.342794Z",
     "shell.execute_reply": "2023-02-20T13:39:14.341531Z"
    },
    "papermill": {
     "duration": 0.052147,
     "end_time": "2023-02-20T13:39:14.346939",
     "exception": false,
     "start_time": "2023-02-20T13:39:14.294792",
     "status": "completed"
    },
    "tags": []
   },
   "outputs": [
    {
     "name": "stdout",
     "output_type": "stream",
     "text": [
      "root\n",
      " |-- RowNumber: integer (nullable = true)\n",
      " |-- CustomerId: integer (nullable = true)\n",
      " |-- Surname: string (nullable = true)\n",
      " |-- CreditScore: integer (nullable = true)\n",
      " |-- Geography: string (nullable = true)\n",
      " |-- Gender: string (nullable = true)\n",
      " |-- Age: integer (nullable = true)\n",
      " |-- Tenure: integer (nullable = true)\n",
      " |-- Balance: double (nullable = true)\n",
      " |-- NumOfProducts: integer (nullable = true)\n",
      " |-- HasCrCard: integer (nullable = true)\n",
      " |-- IsActiveMember: integer (nullable = true)\n",
      " |-- EstimatedSalary: double (nullable = true)\n",
      " |-- Exited: integer (nullable = true)\n",
      "\n"
     ]
    }
   ],
   "source": [
    "df.printSchema()\n",
    "# Veri tipi ve boş değer kontrolü."
   ]
  },
  {
   "cell_type": "markdown",
   "id": "d527837f",
   "metadata": {
    "papermill": {
     "duration": 0.034777,
     "end_time": "2023-02-20T13:39:14.417761",
     "exception": false,
     "start_time": "2023-02-20T13:39:14.382984",
     "status": "completed"
    },
    "tags": []
   },
   "source": [
    "* Veri tipinde herhangi bir dönüşüme ihtiyaç bulunmamaktadır."
   ]
  },
  {
   "cell_type": "code",
   "execution_count": 14,
   "id": "7aa5d009",
   "metadata": {
    "execution": {
     "iopub.execute_input": "2023-02-20T13:39:14.492873Z",
     "iopub.status.busy": "2023-02-20T13:39:14.491649Z",
     "iopub.status.idle": "2023-02-20T13:39:14.546138Z",
     "shell.execute_reply": "2023-02-20T13:39:14.545193Z"
    },
    "papermill": {
     "duration": 0.095799,
     "end_time": "2023-02-20T13:39:14.549058",
     "exception": false,
     "start_time": "2023-02-20T13:39:14.453259",
     "status": "completed"
    },
    "tags": []
   },
   "outputs": [
    {
     "data": {
      "text/plain": [
       "DataFrame[RowNumber: int, CustomerId: int, Surname: string, CreditScore: int, Geography: string, Gender: string, Age: int, Tenure: int, Balance: double, NumOfProducts: int, HasCrCard: int, IsActiveMember: int, EstimatedSalary: double, Exited: int]"
      ]
     },
     "execution_count": 14,
     "metadata": {},
     "output_type": "execute_result"
    }
   ],
   "source": [
    "df.persist()\n",
    "# Veri küçük olduğu için Persist ediyoruz. Ek olarak veri tipi kontrolü yapabilirim."
   ]
  },
  {
   "cell_type": "code",
   "execution_count": 15,
   "id": "f1cb03fc",
   "metadata": {
    "execution": {
     "iopub.execute_input": "2023-02-20T13:39:14.622754Z",
     "iopub.status.busy": "2023-02-20T13:39:14.621678Z",
     "iopub.status.idle": "2023-02-20T13:39:14.630852Z",
     "shell.execute_reply": "2023-02-20T13:39:14.629483Z"
    },
    "papermill": {
     "duration": 0.049493,
     "end_time": "2023-02-20T13:39:14.633737",
     "exception": false,
     "start_time": "2023-02-20T13:39:14.584244",
     "status": "completed"
    },
    "tags": []
   },
   "outputs": [
    {
     "data": {
      "text/plain": [
       "[('RowNumber', 'int'),\n",
       " ('CustomerId', 'int'),\n",
       " ('Surname', 'string'),\n",
       " ('CreditScore', 'int'),\n",
       " ('Geography', 'string'),\n",
       " ('Gender', 'string'),\n",
       " ('Age', 'int'),\n",
       " ('Tenure', 'int'),\n",
       " ('Balance', 'double'),\n",
       " ('NumOfProducts', 'int'),\n",
       " ('HasCrCard', 'int'),\n",
       " ('IsActiveMember', 'int'),\n",
       " ('EstimatedSalary', 'double'),\n",
       " ('Exited', 'int')]"
      ]
     },
     "execution_count": 15,
     "metadata": {},
     "output_type": "execute_result"
    }
   ],
   "source": [
    "df.dtypes\n",
    "# Veri tipi kontrolü."
   ]
  },
  {
   "cell_type": "code",
   "execution_count": 16,
   "id": "a634fd8f",
   "metadata": {
    "execution": {
     "iopub.execute_input": "2023-02-20T13:39:14.711976Z",
     "iopub.status.busy": "2023-02-20T13:39:14.711423Z",
     "iopub.status.idle": "2023-02-20T13:39:15.715715Z",
     "shell.execute_reply": "2023-02-20T13:39:15.709226Z"
    },
    "papermill": {
     "duration": 1.046906,
     "end_time": "2023-02-20T13:39:15.718718",
     "exception": false,
     "start_time": "2023-02-20T13:39:14.671812",
     "status": "completed"
    },
    "tags": []
   },
   "outputs": [
    {
     "name": "stderr",
     "output_type": "stream",
     "text": [
      "[Stage 6:>                                                          (0 + 1) / 1]\r"
     ]
    },
    {
     "name": "stdout",
     "output_type": "stream",
     "text": [
      "10000\n"
     ]
    },
    {
     "name": "stderr",
     "output_type": "stream",
     "text": [
      "                                                                                \r"
     ]
    }
   ],
   "source": [
    "df_count = df.count()\n",
    "print(df_count)"
   ]
  },
  {
   "cell_type": "markdown",
   "id": "47da657a",
   "metadata": {
    "papermill": {
     "duration": 0.036682,
     "end_time": "2023-02-20T13:39:15.791821",
     "exception": false,
     "start_time": "2023-02-20T13:39:15.755139",
     "status": "completed"
    },
    "tags": []
   },
   "source": [
    "<a id = \"4\"></a> <span style=\"font-size:150%; color:#07663c; \">Eksik Veriler (Missing Values)</span>"
   ]
  },
  {
   "cell_type": "code",
   "execution_count": 17,
   "id": "afd925e4",
   "metadata": {
    "execution": {
     "iopub.execute_input": "2023-02-20T13:39:15.867894Z",
     "iopub.status.busy": "2023-02-20T13:39:15.867074Z",
     "iopub.status.idle": "2023-02-20T13:39:19.149906Z",
     "shell.execute_reply": "2023-02-20T13:39:19.148563Z"
    },
    "papermill": {
     "duration": 3.324319,
     "end_time": "2023-02-20T13:39:19.153749",
     "exception": false,
     "start_time": "2023-02-20T13:39:15.829430",
     "status": "completed"
    },
    "tags": []
   },
   "outputs": [],
   "source": [
    "for col_name in df.dtypes:\n",
    "    null_count = df.filter( (F.col(col_name[0]).isNull()) | (F.col(col_name[0]) == \"\")).count()\n",
    "    \n",
    "    if null_count > 0:\n",
    "        print(\"{}  {} type null values: {} % {}\".format(col_name[0], col_name[1], null_count, (null_count/df_count * 100)))"
   ]
  },
  {
   "cell_type": "markdown",
   "id": "d472316f",
   "metadata": {
    "papermill": {
     "duration": 0.056489,
     "end_time": "2023-02-20T13:39:19.264527",
     "exception": false,
     "start_time": "2023-02-20T13:39:19.208038",
     "status": "completed"
    },
    "tags": []
   },
   "source": [
    "* Eksik gözlem bulunmamaktadır."
   ]
  },
  {
   "cell_type": "markdown",
   "id": "d84971e3",
   "metadata": {
    "papermill": {
     "duration": 0.059331,
     "end_time": "2023-02-20T13:39:19.380621",
     "exception": false,
     "start_time": "2023-02-20T13:39:19.321290",
     "status": "completed"
    },
    "tags": []
   },
   "source": [
    "<a id = \"5\"></a> <span style=\"font-size:150%; color:#07663c; \">Değişkenlerin Sınıflandırılması (Feature Classification)</span>"
   ]
  },
  {
   "cell_type": "markdown",
   "id": "cd2fe2dd",
   "metadata": {
    "papermill": {
     "duration": 0.053706,
     "end_time": "2023-02-20T13:39:19.491914",
     "exception": false,
     "start_time": "2023-02-20T13:39:19.438208",
     "status": "completed"
    },
    "tags": []
   },
   "source": [
    "#### Değişkenleri Kategorik, Numeric, Hedef ve Çıkarılacak olarak sınıflandırıyoruz."
   ]
  },
  {
   "cell_type": "code",
   "execution_count": 18,
   "id": "ca2456de",
   "metadata": {
    "execution": {
     "iopub.execute_input": "2023-02-20T13:39:19.602836Z",
     "iopub.status.busy": "2023-02-20T13:39:19.602300Z",
     "iopub.status.idle": "2023-02-20T13:39:19.608920Z",
     "shell.execute_reply": "2023-02-20T13:39:19.607709Z"
    },
    "papermill": {
     "duration": 0.064804,
     "end_time": "2023-02-20T13:39:19.612033",
     "exception": false,
     "start_time": "2023-02-20T13:39:19.547229",
     "status": "completed"
    },
    "tags": []
   },
   "outputs": [],
   "source": [
    "categoric_cols = []\n",
    "\n",
    "numeric_cols = []\n",
    "\n",
    "discarted_cols = ['RowNumber', 'CustomerId', 'Surname']\n",
    "\n",
    "label_col = ['Exited']"
   ]
  },
  {
   "cell_type": "code",
   "execution_count": 19,
   "id": "4389e867",
   "metadata": {
    "execution": {
     "iopub.execute_input": "2023-02-20T13:39:19.724257Z",
     "iopub.status.busy": "2023-02-20T13:39:19.723240Z",
     "iopub.status.idle": "2023-02-20T13:39:19.730602Z",
     "shell.execute_reply": "2023-02-20T13:39:19.729420Z"
    },
    "papermill": {
     "duration": 0.070335,
     "end_time": "2023-02-20T13:39:19.734980",
     "exception": false,
     "start_time": "2023-02-20T13:39:19.664645",
     "status": "completed"
    },
    "tags": []
   },
   "outputs": [],
   "source": [
    "for col_name in df.dtypes:\n",
    "    if (col_name[0] not in discarted_cols+label_col):\n",
    "        if col_name[1] == 'string':\n",
    "            categoric_cols.append(col_name[0])\n",
    "        else: numeric_cols.append(col_name[0])\n",
    "            \n",
    "# sınıflarına göre listelere atama işlemi yapan döngü."
   ]
  },
  {
   "cell_type": "code",
   "execution_count": 20,
   "id": "7b53ad93",
   "metadata": {
    "execution": {
     "iopub.execute_input": "2023-02-20T13:39:19.833414Z",
     "iopub.status.busy": "2023-02-20T13:39:19.832371Z",
     "iopub.status.idle": "2023-02-20T13:39:19.840403Z",
     "shell.execute_reply": "2023-02-20T13:39:19.839110Z"
    },
    "papermill": {
     "duration": 0.052629,
     "end_time": "2023-02-20T13:39:19.845331",
     "exception": false,
     "start_time": "2023-02-20T13:39:19.792702",
     "status": "completed"
    },
    "tags": []
   },
   "outputs": [
    {
     "name": "stdout",
     "output_type": "stream",
     "text": [
      "['Geography', 'Gender']\n",
      "2\n"
     ]
    }
   ],
   "source": [
    "print(categoric_cols)\n",
    "print(len(categoric_cols))"
   ]
  },
  {
   "cell_type": "code",
   "execution_count": 21,
   "id": "8d869b95",
   "metadata": {
    "execution": {
     "iopub.execute_input": "2023-02-20T13:39:19.921840Z",
     "iopub.status.busy": "2023-02-20T13:39:19.920755Z",
     "iopub.status.idle": "2023-02-20T13:39:19.926994Z",
     "shell.execute_reply": "2023-02-20T13:39:19.925616Z"
    },
    "papermill": {
     "duration": 0.048273,
     "end_time": "2023-02-20T13:39:19.930282",
     "exception": false,
     "start_time": "2023-02-20T13:39:19.882009",
     "status": "completed"
    },
    "tags": []
   },
   "outputs": [
    {
     "name": "stdout",
     "output_type": "stream",
     "text": [
      "['CreditScore', 'Age', 'Tenure', 'Balance', 'NumOfProducts', 'HasCrCard', 'IsActiveMember', 'EstimatedSalary']\n",
      "8\n"
     ]
    }
   ],
   "source": [
    "print(numeric_cols )\n",
    "print(len(numeric_cols))\n"
   ]
  },
  {
   "cell_type": "code",
   "execution_count": 22,
   "id": "d385b65d",
   "metadata": {
    "execution": {
     "iopub.execute_input": "2023-02-20T13:39:20.010898Z",
     "iopub.status.busy": "2023-02-20T13:39:20.009630Z",
     "iopub.status.idle": "2023-02-20T13:39:20.018456Z",
     "shell.execute_reply": "2023-02-20T13:39:20.016780Z"
    },
    "papermill": {
     "duration": 0.051418,
     "end_time": "2023-02-20T13:39:20.021739",
     "exception": false,
     "start_time": "2023-02-20T13:39:19.970321",
     "status": "completed"
    },
    "tags": []
   },
   "outputs": [
    {
     "name": "stdout",
     "output_type": "stream",
     "text": [
      "['RowNumber', 'CustomerId', 'Surname']\n",
      "3\n"
     ]
    }
   ],
   "source": [
    "print(discarted_cols )\n",
    "print(len(discarted_cols))"
   ]
  },
  {
   "cell_type": "code",
   "execution_count": 23,
   "id": "9739c720",
   "metadata": {
    "execution": {
     "iopub.execute_input": "2023-02-20T13:39:20.101230Z",
     "iopub.status.busy": "2023-02-20T13:39:20.100775Z",
     "iopub.status.idle": "2023-02-20T13:39:20.108491Z",
     "shell.execute_reply": "2023-02-20T13:39:20.106321Z"
    },
    "papermill": {
     "duration": 0.052138,
     "end_time": "2023-02-20T13:39:20.112847",
     "exception": false,
     "start_time": "2023-02-20T13:39:20.060709",
     "status": "completed"
    },
    "tags": []
   },
   "outputs": [
    {
     "name": "stdout",
     "output_type": "stream",
     "text": [
      "['Exited']\n",
      "1\n"
     ]
    }
   ],
   "source": [
    "print(label_col)\n",
    "print(len(label_col))"
   ]
  },
  {
   "cell_type": "code",
   "execution_count": 24,
   "id": "143e239f",
   "metadata": {
    "execution": {
     "iopub.execute_input": "2023-02-20T13:39:20.191851Z",
     "iopub.status.busy": "2023-02-20T13:39:20.190938Z",
     "iopub.status.idle": "2023-02-20T13:39:20.233585Z",
     "shell.execute_reply": "2023-02-20T13:39:20.231340Z"
    },
    "papermill": {
     "duration": 0.085519,
     "end_time": "2023-02-20T13:39:20.238124",
     "exception": false,
     "start_time": "2023-02-20T13:39:20.152605",
     "status": "completed"
    },
    "tags": []
   },
   "outputs": [],
   "source": [
    "for col_name in categoric_cols:\n",
    "    df1 = df.withColumn(col_name, F.trim(col_name))"
   ]
  },
  {
   "cell_type": "markdown",
   "id": "eb233040",
   "metadata": {
    "papermill": {
     "duration": 0.039763,
     "end_time": "2023-02-20T13:39:20.334626",
     "exception": false,
     "start_time": "2023-02-20T13:39:20.294863",
     "status": "completed"
    },
    "tags": []
   },
   "source": [
    "<a id = \"6\"></a> <span style=\"font-size:150%; color:#07663c; \">Hedef Değişken Kontrolü (Target Analysis)</span>"
   ]
  },
  {
   "cell_type": "code",
   "execution_count": 25,
   "id": "b4ee04b2",
   "metadata": {
    "execution": {
     "iopub.execute_input": "2023-02-20T13:39:20.410094Z",
     "iopub.status.busy": "2023-02-20T13:39:20.409596Z",
     "iopub.status.idle": "2023-02-20T13:39:20.954742Z",
     "shell.execute_reply": "2023-02-20T13:39:20.953356Z"
    },
    "papermill": {
     "duration": 0.586652,
     "end_time": "2023-02-20T13:39:20.958746",
     "exception": false,
     "start_time": "2023-02-20T13:39:20.372094",
     "status": "completed"
    },
    "tags": []
   },
   "outputs": [
    {
     "name": "stdout",
     "output_type": "stream",
     "text": [
      "+------+-----+\n",
      "|Exited|count|\n",
      "+------+-----+\n",
      "|     1| 2037|\n",
      "|     0| 7963|\n",
      "+------+-----+\n",
      "\n"
     ]
    }
   ],
   "source": [
    "df.select(label_col[0]).groupBy(label_col[0]).count().show()"
   ]
  },
  {
   "cell_type": "markdown",
   "id": "fea111f9",
   "metadata": {
    "papermill": {
     "duration": 0.056726,
     "end_time": "2023-02-20T13:39:21.072474",
     "exception": false,
     "start_time": "2023-02-20T13:39:21.015748",
     "status": "completed"
    },
    "tags": []
   },
   "source": [
    "<a id = \"7\"></a> <span style=\"font-size:150%; color:#07663c; \">Kategorik Değişken Analizi (Categorical Variable Analysis)</span>"
   ]
  },
  {
   "cell_type": "code",
   "execution_count": 26,
   "id": "86ea5362",
   "metadata": {
    "execution": {
     "iopub.execute_input": "2023-02-20T13:39:21.181353Z",
     "iopub.status.busy": "2023-02-20T13:39:21.180787Z",
     "iopub.status.idle": "2023-02-20T13:39:21.765858Z",
     "shell.execute_reply": "2023-02-20T13:39:21.764439Z"
    },
    "papermill": {
     "duration": 0.64574,
     "end_time": "2023-02-20T13:39:21.770880",
     "exception": false,
     "start_time": "2023-02-20T13:39:21.125140",
     "status": "completed"
    },
    "tags": []
   },
   "outputs": [
    {
     "name": "stdout",
     "output_type": "stream",
     "text": [
      "+---------+-----+\n",
      "|Geography|count|\n",
      "+---------+-----+\n",
      "|  Germany| 2509|\n",
      "|   France| 5014|\n",
      "|    Spain| 2477|\n",
      "+---------+-----+\n",
      "\n",
      "+------+-----+\n",
      "|Gender|count|\n",
      "+------+-----+\n",
      "|Female| 4543|\n",
      "|  Male| 5457|\n",
      "+------+-----+\n",
      "\n"
     ]
    }
   ],
   "source": [
    "for col_name in categoric_cols:\n",
    "    df.select(col_name).groupBy(col_name).count().show()\n"
   ]
  },
  {
   "cell_type": "markdown",
   "id": "432ae38b",
   "metadata": {
    "papermill": {
     "duration": 0.038442,
     "end_time": "2023-02-20T13:39:21.849730",
     "exception": false,
     "start_time": "2023-02-20T13:39:21.811288",
     "status": "completed"
    },
    "tags": []
   },
   "source": [
    "#### Değişkenlerin kontrolü."
   ]
  },
  {
   "cell_type": "code",
   "execution_count": 27,
   "id": "65c8fbc7",
   "metadata": {
    "execution": {
     "iopub.execute_input": "2023-02-20T13:39:21.926677Z",
     "iopub.status.busy": "2023-02-20T13:39:21.926293Z",
     "iopub.status.idle": "2023-02-20T13:39:21.937140Z",
     "shell.execute_reply": "2023-02-20T13:39:21.935510Z"
    },
    "papermill": {
     "duration": 0.051197,
     "end_time": "2023-02-20T13:39:21.939861",
     "exception": false,
     "start_time": "2023-02-20T13:39:21.888664",
     "status": "completed"
    },
    "tags": []
   },
   "outputs": [
    {
     "name": "stdout",
     "output_type": "stream",
     "text": [
      "Değişkenlerin sayısı birbirine eşittir.\n"
     ]
    }
   ],
   "source": [
    "if len(df1.columns) == (len(categoric_cols)+len(numeric_cols)+len(discarted_cols)+len(label_col)):\n",
    "    print(\"Değişkenlerin sayısı birbirine eşittir.\")\n",
    "else: print(\"Değişken gruplamada problem bulunmaktadır !\")"
   ]
  },
  {
   "cell_type": "markdown",
   "id": "81a0e6ef",
   "metadata": {
    "papermill": {
     "duration": 0.037856,
     "end_time": "2023-02-20T13:39:22.017135",
     "exception": false,
     "start_time": "2023-02-20T13:39:21.979279",
     "status": "completed"
    },
    "tags": []
   },
   "source": [
    "<a id = \"8\"></a> <span style=\"font-size:150%; color:#07663c; \">Veri Ön İşleme (Data Preprocessing)</span>"
   ]
  },
  {
   "cell_type": "markdown",
   "id": "0cab502d",
   "metadata": {
    "papermill": {
     "duration": 0.039235,
     "end_time": "2023-02-20T13:39:22.094442",
     "exception": false,
     "start_time": "2023-02-20T13:39:22.055207",
     "status": "completed"
    },
    "tags": []
   },
   "source": [
    "## Encoding"
   ]
  },
  {
   "cell_type": "code",
   "execution_count": 28,
   "id": "1725628d",
   "metadata": {
    "execution": {
     "iopub.execute_input": "2023-02-20T13:39:22.172044Z",
     "iopub.status.busy": "2023-02-20T13:39:22.171556Z",
     "iopub.status.idle": "2023-02-20T13:39:22.689328Z",
     "shell.execute_reply": "2023-02-20T13:39:22.688094Z"
    },
    "papermill": {
     "duration": 0.565246,
     "end_time": "2023-02-20T13:39:22.696827",
     "exception": false,
     "start_time": "2023-02-20T13:39:22.131581",
     "status": "completed"
    },
    "tags": []
   },
   "outputs": [],
   "source": [
    "tobeoheded = []\n",
    "for col_name in categoric_cols:\n",
    "    count = df1.select(col_name).distinct().count()\n",
    "\n",
    "    if count > 2:\n",
    "        tobeoheded.append(col_name)"
   ]
  },
  {
   "cell_type": "code",
   "execution_count": 29,
   "id": "dd5e3194",
   "metadata": {
    "execution": {
     "iopub.execute_input": "2023-02-20T13:39:22.824701Z",
     "iopub.status.busy": "2023-02-20T13:39:22.824162Z",
     "iopub.status.idle": "2023-02-20T13:39:22.831149Z",
     "shell.execute_reply": "2023-02-20T13:39:22.829919Z"
    },
    "papermill": {
     "duration": 0.079467,
     "end_time": "2023-02-20T13:39:22.836350",
     "exception": false,
     "start_time": "2023-02-20T13:39:22.756883",
     "status": "completed"
    },
    "tags": []
   },
   "outputs": [
    {
     "name": "stdout",
     "output_type": "stream",
     "text": [
      "['Geography']\n"
     ]
    }
   ],
   "source": [
    "print(tobeoheded)"
   ]
  },
  {
   "cell_type": "markdown",
   "id": "694b28a1",
   "metadata": {
    "papermill": {
     "duration": 0.052479,
     "end_time": "2023-02-20T13:39:22.943532",
     "exception": false,
     "start_time": "2023-02-20T13:39:22.891053",
     "status": "completed"
    },
    "tags": []
   },
   "source": [
    "## StringIndexter"
   ]
  },
  {
   "cell_type": "code",
   "execution_count": 30,
   "id": "f1389220",
   "metadata": {
    "execution": {
     "iopub.execute_input": "2023-02-20T13:39:23.053372Z",
     "iopub.status.busy": "2023-02-20T13:39:23.052327Z",
     "iopub.status.idle": "2023-02-20T13:39:23.059238Z",
     "shell.execute_reply": "2023-02-20T13:39:23.058036Z"
    },
    "papermill": {
     "duration": 0.064996,
     "end_time": "2023-02-20T13:39:23.062163",
     "exception": false,
     "start_time": "2023-02-20T13:39:22.997167",
     "status": "completed"
    },
    "tags": []
   },
   "outputs": [],
   "source": [
    "from pyspark.ml.feature import StringIndexer"
   ]
  },
  {
   "cell_type": "code",
   "execution_count": 31,
   "id": "16c267be",
   "metadata": {
    "execution": {
     "iopub.execute_input": "2023-02-20T13:39:23.155891Z",
     "iopub.status.busy": "2023-02-20T13:39:23.155029Z",
     "iopub.status.idle": "2023-02-20T13:39:23.194844Z",
     "shell.execute_reply": "2023-02-20T13:39:23.193880Z"
    },
    "papermill": {
     "duration": 0.082568,
     "end_time": "2023-02-20T13:39:23.197582",
     "exception": false,
     "start_time": "2023-02-20T13:39:23.115014",
     "status": "completed"
    },
    "tags": []
   },
   "outputs": [],
   "source": [
    "mydict = {}\n",
    "\n",
    "stringindexerobj = []\n",
    "\n",
    "stringindexeroutputnames = []\n",
    "\n",
    "oheinputnames = []\n",
    "\n",
    "oheoutputnames = []\n",
    "\n",
    "for col_name in categoric_cols:\n",
    "    mydict[col_name+\"_indexedobj\"] = StringIndexer() \\\n",
    "                                    .setHandleInvalid(\"skip\") \\\n",
    "                                    .setInputCol(col_name) \\\n",
    "                                    .setOutputCol(col_name+\"_indexed\")\n",
    "    stringindexerobj.append(mydict.get(col_name+\"_indexedobj\"))\n",
    "    stringindexeroutputnames.append(col_name+\"_indexed\")\n",
    "\n",
    "    if col_name in tobeoheded:\n",
    "        oheinputnames.append(col_name+\"_indexed\")\n",
    "        oheoutputnames.append(col_name+\"_ohe\")"
   ]
  },
  {
   "cell_type": "code",
   "execution_count": 32,
   "id": "94d72903",
   "metadata": {
    "execution": {
     "iopub.execute_input": "2023-02-20T13:39:23.275209Z",
     "iopub.status.busy": "2023-02-20T13:39:23.273647Z",
     "iopub.status.idle": "2023-02-20T13:39:23.281639Z",
     "shell.execute_reply": "2023-02-20T13:39:23.279808Z"
    },
    "papermill": {
     "duration": 0.050358,
     "end_time": "2023-02-20T13:39:23.284290",
     "exception": false,
     "start_time": "2023-02-20T13:39:23.233932",
     "status": "completed"
    },
    "tags": []
   },
   "outputs": [
    {
     "name": "stdout",
     "output_type": "stream",
     "text": [
      "[StringIndexer_7c44c4a05dc4, StringIndexer_f30b08f28288]\n"
     ]
    }
   ],
   "source": [
    "print(stringindexerobj)"
   ]
  },
  {
   "cell_type": "code",
   "execution_count": 33,
   "id": "97b68441",
   "metadata": {
    "execution": {
     "iopub.execute_input": "2023-02-20T13:39:23.357322Z",
     "iopub.status.busy": "2023-02-20T13:39:23.356871Z",
     "iopub.status.idle": "2023-02-20T13:39:23.362652Z",
     "shell.execute_reply": "2023-02-20T13:39:23.361253Z"
    },
    "papermill": {
     "duration": 0.045919,
     "end_time": "2023-02-20T13:39:23.365688",
     "exception": false,
     "start_time": "2023-02-20T13:39:23.319769",
     "status": "completed"
    },
    "tags": []
   },
   "outputs": [
    {
     "name": "stdout",
     "output_type": "stream",
     "text": [
      "['Geography_indexed', 'Gender_indexed']\n"
     ]
    }
   ],
   "source": [
    "print(stringindexeroutputnames)"
   ]
  },
  {
   "cell_type": "code",
   "execution_count": 34,
   "id": "b9025103",
   "metadata": {
    "execution": {
     "iopub.execute_input": "2023-02-20T13:39:23.441264Z",
     "iopub.status.busy": "2023-02-20T13:39:23.440802Z",
     "iopub.status.idle": "2023-02-20T13:39:23.447460Z",
     "shell.execute_reply": "2023-02-20T13:39:23.446185Z"
    },
    "papermill": {
     "duration": 0.047654,
     "end_time": "2023-02-20T13:39:23.450879",
     "exception": false,
     "start_time": "2023-02-20T13:39:23.403225",
     "status": "completed"
    },
    "tags": []
   },
   "outputs": [
    {
     "name": "stdout",
     "output_type": "stream",
     "text": [
      "['Geography_indexed']\n"
     ]
    }
   ],
   "source": [
    "print(oheinputnames)"
   ]
  },
  {
   "cell_type": "code",
   "execution_count": 35,
   "id": "1fabecc4",
   "metadata": {
    "execution": {
     "iopub.execute_input": "2023-02-20T13:39:23.526054Z",
     "iopub.status.busy": "2023-02-20T13:39:23.525603Z",
     "iopub.status.idle": "2023-02-20T13:39:23.531955Z",
     "shell.execute_reply": "2023-02-20T13:39:23.530779Z"
    },
    "papermill": {
     "duration": 0.047452,
     "end_time": "2023-02-20T13:39:23.535101",
     "exception": false,
     "start_time": "2023-02-20T13:39:23.487649",
     "status": "completed"
    },
    "tags": []
   },
   "outputs": [
    {
     "name": "stdout",
     "output_type": "stream",
     "text": [
      "['Geography_ohe']\n"
     ]
    }
   ],
   "source": [
    "print(oheoutputnames)"
   ]
  },
  {
   "cell_type": "markdown",
   "id": "d3438024",
   "metadata": {
    "papermill": {
     "duration": 0.037033,
     "end_time": "2023-02-20T13:39:23.609431",
     "exception": false,
     "start_time": "2023-02-20T13:39:23.572398",
     "status": "completed"
    },
    "tags": []
   },
   "source": [
    "## OneHotEncoder İşlemi"
   ]
  },
  {
   "cell_type": "code",
   "execution_count": 36,
   "id": "0556edba",
   "metadata": {
    "execution": {
     "iopub.execute_input": "2023-02-20T13:39:23.684030Z",
     "iopub.status.busy": "2023-02-20T13:39:23.683578Z",
     "iopub.status.idle": "2023-02-20T13:39:23.689852Z",
     "shell.execute_reply": "2023-02-20T13:39:23.688378Z"
    },
    "papermill": {
     "duration": 0.047108,
     "end_time": "2023-02-20T13:39:23.692457",
     "exception": false,
     "start_time": "2023-02-20T13:39:23.645349",
     "status": "completed"
    },
    "tags": []
   },
   "outputs": [],
   "source": [
    "from pyspark.ml.feature import OneHotEncoder"
   ]
  },
  {
   "cell_type": "code",
   "execution_count": 37,
   "id": "b5a50b6f",
   "metadata": {
    "execution": {
     "iopub.execute_input": "2023-02-20T13:39:23.767019Z",
     "iopub.status.busy": "2023-02-20T13:39:23.766573Z",
     "iopub.status.idle": "2023-02-20T13:39:23.772936Z",
     "shell.execute_reply": "2023-02-20T13:39:23.771738Z"
    },
    "papermill": {
     "duration": 0.047268,
     "end_time": "2023-02-20T13:39:23.775753",
     "exception": false,
     "start_time": "2023-02-20T13:39:23.728485",
     "status": "completed"
    },
    "tags": []
   },
   "outputs": [
    {
     "name": "stdout",
     "output_type": "stream",
     "text": [
      "['Gender_indexed']\n"
     ]
    }
   ],
   "source": [
    "stringindexeroheexcluded = list(set(stringindexeroutputnames).difference(set(oheinputnames)))\n",
    "print(stringindexeroheexcluded)"
   ]
  },
  {
   "cell_type": "code",
   "execution_count": 38,
   "id": "545b1f0f",
   "metadata": {
    "execution": {
     "iopub.execute_input": "2023-02-20T13:39:23.850157Z",
     "iopub.status.busy": "2023-02-20T13:39:23.849691Z",
     "iopub.status.idle": "2023-02-20T13:39:23.864907Z",
     "shell.execute_reply": "2023-02-20T13:39:23.863472Z"
    },
    "papermill": {
     "duration": 0.056309,
     "end_time": "2023-02-20T13:39:23.867783",
     "exception": false,
     "start_time": "2023-02-20T13:39:23.811474",
     "status": "completed"
    },
    "tags": []
   },
   "outputs": [],
   "source": [
    "encoder = OneHotEncoder().setInputCols(oheinputnames).setOutputCols(oheoutputnames)"
   ]
  },
  {
   "cell_type": "markdown",
   "id": "2885bb3d",
   "metadata": {
    "papermill": {
     "duration": 0.036802,
     "end_time": "2023-02-20T13:39:23.941488",
     "exception": false,
     "start_time": "2023-02-20T13:39:23.904686",
     "status": "completed"
    },
    "tags": []
   },
   "source": [
    "### Vector Assambler"
   ]
  },
  {
   "cell_type": "code",
   "execution_count": 39,
   "id": "8977519b",
   "metadata": {
    "execution": {
     "iopub.execute_input": "2023-02-20T13:39:24.020176Z",
     "iopub.status.busy": "2023-02-20T13:39:24.019714Z",
     "iopub.status.idle": "2023-02-20T13:39:24.025229Z",
     "shell.execute_reply": "2023-02-20T13:39:24.023731Z"
    },
    "papermill": {
     "duration": 0.046546,
     "end_time": "2023-02-20T13:39:24.027643",
     "exception": false,
     "start_time": "2023-02-20T13:39:23.981097",
     "status": "completed"
    },
    "tags": []
   },
   "outputs": [],
   "source": [
    "from pyspark.ml.feature import VectorAssembler"
   ]
  },
  {
   "cell_type": "code",
   "execution_count": 40,
   "id": "9fbce904",
   "metadata": {
    "execution": {
     "iopub.execute_input": "2023-02-20T13:39:24.104408Z",
     "iopub.status.busy": "2023-02-20T13:39:24.103845Z",
     "iopub.status.idle": "2023-02-20T13:39:24.119584Z",
     "shell.execute_reply": "2023-02-20T13:39:24.118556Z"
    },
    "papermill": {
     "duration": 0.05703,
     "end_time": "2023-02-20T13:39:24.122550",
     "exception": false,
     "start_time": "2023-02-20T13:39:24.065520",
     "status": "completed"
    },
    "tags": []
   },
   "outputs": [],
   "source": [
    "assembler = VectorAssembler().setInputCols(numeric_cols+stringindexeroheexcluded+oheoutputnames) \\\n",
    ".setOutputCol(\"unscaled_features\")"
   ]
  },
  {
   "cell_type": "markdown",
   "id": "6491f061",
   "metadata": {
    "papermill": {
     "duration": 0.037329,
     "end_time": "2023-02-20T13:39:24.200641",
     "exception": false,
     "start_time": "2023-02-20T13:39:24.163312",
     "status": "completed"
    },
    "tags": []
   },
   "source": [
    "### Scaler"
   ]
  },
  {
   "cell_type": "code",
   "execution_count": 41,
   "id": "d3088c85",
   "metadata": {
    "execution": {
     "iopub.execute_input": "2023-02-20T13:39:24.280716Z",
     "iopub.status.busy": "2023-02-20T13:39:24.280219Z",
     "iopub.status.idle": "2023-02-20T13:39:24.285513Z",
     "shell.execute_reply": "2023-02-20T13:39:24.284474Z"
    },
    "papermill": {
     "duration": 0.047722,
     "end_time": "2023-02-20T13:39:24.288015",
     "exception": false,
     "start_time": "2023-02-20T13:39:24.240293",
     "status": "completed"
    },
    "tags": []
   },
   "outputs": [],
   "source": [
    "from pyspark.ml.feature import StandardScaler"
   ]
  },
  {
   "cell_type": "code",
   "execution_count": 42,
   "id": "e09152aa",
   "metadata": {
    "execution": {
     "iopub.execute_input": "2023-02-20T13:39:24.366048Z",
     "iopub.status.busy": "2023-02-20T13:39:24.365381Z",
     "iopub.status.idle": "2023-02-20T13:39:24.379684Z",
     "shell.execute_reply": "2023-02-20T13:39:24.378463Z"
    },
    "papermill": {
     "duration": 0.055652,
     "end_time": "2023-02-20T13:39:24.382423",
     "exception": false,
     "start_time": "2023-02-20T13:39:24.326771",
     "status": "completed"
    },
    "tags": []
   },
   "outputs": [],
   "source": [
    "scaler = StandardScaler().setInputCol(\"unscaled_features\").setOutputCol(\"features\")"
   ]
  },
  {
   "cell_type": "markdown",
   "id": "78882053",
   "metadata": {
    "papermill": {
     "duration": 0.036638,
     "end_time": "2023-02-20T13:39:24.455805",
     "exception": false,
     "start_time": "2023-02-20T13:39:24.419167",
     "status": "completed"
    },
    "tags": []
   },
   "source": [
    "<a id = \"9\"></a> <span style=\"font-size:150%; color:#07663c; \">Modelleme (Modeling)</span>"
   ]
  },
  {
   "cell_type": "code",
   "execution_count": 43,
   "id": "1bda3e95",
   "metadata": {
    "execution": {
     "iopub.execute_input": "2023-02-20T13:39:24.533613Z",
     "iopub.status.busy": "2023-02-20T13:39:24.533203Z",
     "iopub.status.idle": "2023-02-20T13:39:24.538877Z",
     "shell.execute_reply": "2023-02-20T13:39:24.537581Z"
    },
    "papermill": {
     "duration": 0.048039,
     "end_time": "2023-02-20T13:39:24.541748",
     "exception": false,
     "start_time": "2023-02-20T13:39:24.493709",
     "status": "completed"
    },
    "tags": []
   },
   "outputs": [],
   "source": [
    "from pyspark.ml.classification import GBTClassifier"
   ]
  },
  {
   "cell_type": "code",
   "execution_count": 44,
   "id": "f1003381",
   "metadata": {
    "execution": {
     "iopub.execute_input": "2023-02-20T13:39:24.618546Z",
     "iopub.status.busy": "2023-02-20T13:39:24.618092Z",
     "iopub.status.idle": "2023-02-20T13:39:24.675410Z",
     "shell.execute_reply": "2023-02-20T13:39:24.673845Z"
    },
    "papermill": {
     "duration": 0.098911,
     "end_time": "2023-02-20T13:39:24.678734",
     "exception": false,
     "start_time": "2023-02-20T13:39:24.579823",
     "status": "completed"
    },
    "tags": []
   },
   "outputs": [],
   "source": [
    "estimator = GBTClassifier() \\\n",
    ".setFeaturesCol(\"features\") \\\n",
    ".setLabelCol(label_col[0])"
   ]
  },
  {
   "cell_type": "markdown",
   "id": "2be53010",
   "metadata": {
    "papermill": {
     "duration": 0.03822,
     "end_time": "2023-02-20T13:39:24.754568",
     "exception": false,
     "start_time": "2023-02-20T13:39:24.716348",
     "status": "completed"
    },
    "tags": []
   },
   "source": [
    "### Pipeline"
   ]
  },
  {
   "cell_type": "code",
   "execution_count": 45,
   "id": "6fc1fb65",
   "metadata": {
    "execution": {
     "iopub.execute_input": "2023-02-20T13:39:24.831234Z",
     "iopub.status.busy": "2023-02-20T13:39:24.830441Z",
     "iopub.status.idle": "2023-02-20T13:39:24.835387Z",
     "shell.execute_reply": "2023-02-20T13:39:24.834452Z"
    },
    "papermill": {
     "duration": 0.045553,
     "end_time": "2023-02-20T13:39:24.837726",
     "exception": false,
     "start_time": "2023-02-20T13:39:24.792173",
     "status": "completed"
    },
    "tags": []
   },
   "outputs": [],
   "source": [
    " from pyspark.ml import Pipeline"
   ]
  },
  {
   "cell_type": "code",
   "execution_count": 46,
   "id": "6a118d3f",
   "metadata": {
    "execution": {
     "iopub.execute_input": "2023-02-20T13:39:24.914724Z",
     "iopub.status.busy": "2023-02-20T13:39:24.914285Z",
     "iopub.status.idle": "2023-02-20T13:39:24.919625Z",
     "shell.execute_reply": "2023-02-20T13:39:24.918681Z"
    },
    "papermill": {
     "duration": 0.048344,
     "end_time": "2023-02-20T13:39:24.921826",
     "exception": false,
     "start_time": "2023-02-20T13:39:24.873482",
     "status": "completed"
    },
    "tags": []
   },
   "outputs": [],
   "source": [
    "pipeline_obj = Pipeline().setStages(stringindexerobj+[encoder, assembler, scaler, estimator])"
   ]
  },
  {
   "cell_type": "code",
   "execution_count": 47,
   "id": "02a4a4f8",
   "metadata": {
    "execution": {
     "iopub.execute_input": "2023-02-20T13:39:24.997765Z",
     "iopub.status.busy": "2023-02-20T13:39:24.997065Z",
     "iopub.status.idle": "2023-02-20T13:39:25.026983Z",
     "shell.execute_reply": "2023-02-20T13:39:25.025601Z"
    },
    "papermill": {
     "duration": 0.071828,
     "end_time": "2023-02-20T13:39:25.031055",
     "exception": false,
     "start_time": "2023-02-20T13:39:24.959227",
     "status": "completed"
    },
    "tags": []
   },
   "outputs": [],
   "source": [
    "train_df, test_df = df1.randomSplit([.8, .2], seed = 142)"
   ]
  },
  {
   "cell_type": "code",
   "execution_count": 48,
   "id": "bf979752",
   "metadata": {
    "execution": {
     "iopub.execute_input": "2023-02-20T13:39:25.129599Z",
     "iopub.status.busy": "2023-02-20T13:39:25.129175Z",
     "iopub.status.idle": "2023-02-20T13:39:25.596867Z",
     "shell.execute_reply": "2023-02-20T13:39:25.595734Z"
    },
    "papermill": {
     "duration": 0.515237,
     "end_time": "2023-02-20T13:39:25.600608",
     "exception": false,
     "start_time": "2023-02-20T13:39:25.085371",
     "status": "completed"
    },
    "tags": []
   },
   "outputs": [
    {
     "name": "stdout",
     "output_type": "stream",
     "text": [
      "7994\n"
     ]
    }
   ],
   "source": [
    "print(train_df.count())"
   ]
  },
  {
   "cell_type": "code",
   "execution_count": 49,
   "id": "3b76a1f4",
   "metadata": {
    "execution": {
     "iopub.execute_input": "2023-02-20T13:39:25.680870Z",
     "iopub.status.busy": "2023-02-20T13:39:25.679321Z",
     "iopub.status.idle": "2023-02-20T13:39:41.467406Z",
     "shell.execute_reply": "2023-02-20T13:39:41.465830Z"
    },
    "papermill": {
     "duration": 15.831091,
     "end_time": "2023-02-20T13:39:41.471264",
     "exception": false,
     "start_time": "2023-02-20T13:39:25.640173",
     "status": "completed"
    },
    "tags": []
   },
   "outputs": [],
   "source": [
    "pipeline_model =  pipeline_obj.fit(train_df)"
   ]
  },
  {
   "cell_type": "markdown",
   "id": "95a0b8dc",
   "metadata": {
    "papermill": {
     "duration": 0.043024,
     "end_time": "2023-02-20T13:39:41.572721",
     "exception": false,
     "start_time": "2023-02-20T13:39:41.529697",
     "status": "completed"
    },
    "tags": []
   },
   "source": [
    "### Prediction"
   ]
  },
  {
   "cell_type": "code",
   "execution_count": 50,
   "id": "b1307e80",
   "metadata": {
    "execution": {
     "iopub.execute_input": "2023-02-20T13:39:41.654000Z",
     "iopub.status.busy": "2023-02-20T13:39:41.653225Z",
     "iopub.status.idle": "2023-02-20T13:39:42.046294Z",
     "shell.execute_reply": "2023-02-20T13:39:42.045045Z"
    },
    "papermill": {
     "duration": 0.435549,
     "end_time": "2023-02-20T13:39:42.049359",
     "exception": false,
     "start_time": "2023-02-20T13:39:41.613810",
     "status": "completed"
    },
    "tags": []
   },
   "outputs": [],
   "source": [
    "transformed_df = pipeline_model.transform(test_df)"
   ]
  },
  {
   "cell_type": "code",
   "execution_count": 51,
   "id": "aca8eaf9",
   "metadata": {
    "execution": {
     "iopub.execute_input": "2023-02-20T13:39:42.158261Z",
     "iopub.status.busy": "2023-02-20T13:39:42.157799Z",
     "iopub.status.idle": "2023-02-20T13:39:42.541078Z",
     "shell.execute_reply": "2023-02-20T13:39:42.539757Z"
    },
    "papermill": {
     "duration": 0.438856,
     "end_time": "2023-02-20T13:39:42.546996",
     "exception": false,
     "start_time": "2023-02-20T13:39:42.108140",
     "status": "completed"
    },
    "tags": []
   },
   "outputs": [
    {
     "name": "stdout",
     "output_type": "stream",
     "text": [
      "+------+----------+\n",
      "|Exited|prediction|\n",
      "+------+----------+\n",
      "|     0|       0.0|\n",
      "|     0|       0.0|\n",
      "|     0|       0.0|\n",
      "|     0|       0.0|\n",
      "|     0|       0.0|\n",
      "|     0|       1.0|\n",
      "|     0|       0.0|\n",
      "|     0|       0.0|\n",
      "|     1|       0.0|\n",
      "|     0|       0.0|\n",
      "+------+----------+\n",
      "only showing top 10 rows\n",
      "\n"
     ]
    }
   ],
   "source": [
    "transformed_df.select(\"Exited\", \"prediction\").show(10)"
   ]
  },
  {
   "cell_type": "markdown",
   "id": "6d5572e5",
   "metadata": {
    "papermill": {
     "duration": 0.035334,
     "end_time": "2023-02-20T13:39:42.669406",
     "exception": false,
     "start_time": "2023-02-20T13:39:42.634072",
     "status": "completed"
    },
    "tags": []
   },
   "source": [
    "<a id = \"10\"></a> <span style=\"font-size:150%; color:#07663c; \">Değerlendirme (Evalution)</span>"
   ]
  },
  {
   "cell_type": "code",
   "execution_count": 52,
   "id": "7a48cbab",
   "metadata": {
    "execution": {
     "iopub.execute_input": "2023-02-20T13:39:42.745229Z",
     "iopub.status.busy": "2023-02-20T13:39:42.744783Z",
     "iopub.status.idle": "2023-02-20T13:39:42.750146Z",
     "shell.execute_reply": "2023-02-20T13:39:42.748879Z"
    },
    "papermill": {
     "duration": 0.046533,
     "end_time": "2023-02-20T13:39:42.752562",
     "exception": false,
     "start_time": "2023-02-20T13:39:42.706029",
     "status": "completed"
    },
    "tags": []
   },
   "outputs": [],
   "source": [
    "from pyspark.ml.evaluation import BinaryClassificationEvaluator"
   ]
  },
  {
   "cell_type": "code",
   "execution_count": 53,
   "id": "6cb5b7e0",
   "metadata": {
    "execution": {
     "iopub.execute_input": "2023-02-20T13:39:42.830118Z",
     "iopub.status.busy": "2023-02-20T13:39:42.829695Z",
     "iopub.status.idle": "2023-02-20T13:39:42.844611Z",
     "shell.execute_reply": "2023-02-20T13:39:42.842847Z"
    },
    "papermill": {
     "duration": 0.057624,
     "end_time": "2023-02-20T13:39:42.847498",
     "exception": false,
     "start_time": "2023-02-20T13:39:42.789874",
     "status": "completed"
    },
    "tags": []
   },
   "outputs": [],
   "source": [
    "evaluator = BinaryClassificationEvaluator(labelCol = label_col[0])"
   ]
  },
  {
   "cell_type": "code",
   "execution_count": 54,
   "id": "5d352942",
   "metadata": {
    "execution": {
     "iopub.execute_input": "2023-02-20T13:39:42.924973Z",
     "iopub.status.busy": "2023-02-20T13:39:42.924507Z",
     "iopub.status.idle": "2023-02-20T13:39:43.635085Z",
     "shell.execute_reply": "2023-02-20T13:39:43.633904Z"
    },
    "papermill": {
     "duration": 0.753113,
     "end_time": "2023-02-20T13:39:43.638772",
     "exception": false,
     "start_time": "2023-02-20T13:39:42.885659",
     "status": "completed"
    },
    "tags": []
   },
   "outputs": [
    {
     "data": {
      "text/plain": [
       "0.8591799680023813"
      ]
     },
     "execution_count": 54,
     "metadata": {},
     "output_type": "execute_result"
    }
   ],
   "source": [
    "evaluator.evaluate(transformed_df)"
   ]
  },
  {
   "cell_type": "code",
   "execution_count": 55,
   "id": "9a3189b8",
   "metadata": {
    "execution": {
     "iopub.execute_input": "2023-02-20T13:39:43.856058Z",
     "iopub.status.busy": "2023-02-20T13:39:43.855514Z",
     "iopub.status.idle": "2023-02-20T13:39:43.863766Z",
     "shell.execute_reply": "2023-02-20T13:39:43.862723Z"
    },
    "papermill": {
     "duration": 0.069311,
     "end_time": "2023-02-20T13:39:43.866039",
     "exception": false,
     "start_time": "2023-02-20T13:39:43.796728",
     "status": "completed"
    },
    "tags": []
   },
   "outputs": [
    {
     "data": {
      "text/plain": [
       "'areaUnderROC'"
      ]
     },
     "execution_count": 55,
     "metadata": {},
     "output_type": "execute_result"
    }
   ],
   "source": [
    "evaluator.getMetricName()"
   ]
  }
 ],
 "metadata": {
  "kernelspec": {
   "display_name": "Python 3",
   "language": "python",
   "name": "python3"
  },
  "language_info": {
   "codemirror_mode": {
    "name": "ipython",
    "version": 3
   },
   "file_extension": ".py",
   "mimetype": "text/x-python",
   "name": "python",
   "nbconvert_exporter": "python",
   "pygments_lexer": "ipython3",
   "version": "3.7.12"
  },
  "papermill": {
   "default_parameters": {},
   "duration": 132.235164,
   "end_time": "2023-02-20T13:39:46.526790",
   "environment_variables": {},
   "exception": null,
   "input_path": "__notebook__.ipynb",
   "output_path": "__notebook__.ipynb",
   "parameters": {},
   "start_time": "2023-02-20T13:37:34.291626",
   "version": "2.3.4"
  }
 },
 "nbformat": 4,
 "nbformat_minor": 5
}
